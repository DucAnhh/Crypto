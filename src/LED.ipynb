{
 "cells": [
  {
   "cell_type": "code",
   "execution_count": 7,
   "id": "c9d63c7f",
   "metadata": {},
   "outputs": [],
   "source": [
    "import numpy as np"
   ]
  },
  {
   "cell_type": "code",
   "execution_count": 8,
   "id": "efc3aa89",
   "metadata": {},
   "outputs": [],
   "source": [
    "def hex2int(hexStr):\n",
    "    # Up thành chữ viết hoa\n",
    "    hexStr = hexStr.upper()\n",
    "    # mapping\n",
    "    mp = {'0': 0, '1': 1, '2': 2, '3': 3, \n",
    "          '4': 4, '5': 5, '6': 6, '7': 7,\n",
    "          '8': 8, '9': 9, 'A': 10, 'B': 11,\n",
    "          'C': 12, 'D': 13, 'E': 14, 'F': 15}\n",
    "    intArr = []\n",
    "    for i in range(len(hexStr)):\n",
    "        intArr.append(mp[hexStr[i]])\n",
    "    return intArr\n",
    "\n",
    "def int2hex(intArr):\n",
    "    # mapping\n",
    "    mp = {0 :'0', 1 :'1', 2 :'2', 3 :'3', \n",
    "          4 :'4', 5 :'5', 6 :'6', 7 :'7',\n",
    "          8 :'8', 9 :'9', 10 :'A', 11 :'B',\n",
    "          12 :'C', 13 :'D', 14 :'E', 15 :'F'}\n",
    "    hexStr = ''\n",
    "    for i in range(len(intArr)):\n",
    "        hexStr = hexStr + mp[intArr[i]]\n",
    "    return hexStr"
   ]
  },
  {
   "cell_type": "code",
   "execution_count": 9,
   "id": "63a9f69f",
   "metadata": {},
   "outputs": [],
   "source": [
    "sbox = [12, 5, 6, 11, 9, 0, 10, 13, 3, 14, 15, 8, 4, 7, 1, 2]\n",
    "MixColMatrix = [[4,  1, 2, 2],\n",
    "                [8,  6, 5, 6],\n",
    "                [11,14,10, 9],\n",
    "                [2,  2,15,11]]\n",
    "LED = 64\n",
    "def FieldMult(a, b):\n",
    "    ReductionPoly = 0x3\n",
    "    x = a\n",
    "    ret = 0\n",
    "    for i in range(4):\n",
    "        if ((b>>i)&1):\n",
    "            ret ^= x\n",
    "        if (x&0x8):\n",
    "            x<<=1;\n",
    "            x^= ReductionPoly\n",
    "        else:\n",
    "            x<<=1\n",
    "    return ret&0xF\n",
    "\n",
    "def AddKey(state, keyBytes, step):\n",
    "    for i in range(4):\n",
    "        for j in range(4):\n",
    "            state[i][j] ^= keyBytes[int((4*i+j+step*16)%(LED/4))]\n",
    "    return state\n",
    "\n",
    "def AddConstants(state, r):\n",
    "    rc = [0x01, 0x03, 0x07, 0x0F, 0x1F, 0x3E, 0x3D, 0x3B, 0x37, 0x2F,\n",
    "      0x1E, 0x3C, 0x39, 0x33, 0x27, 0x0E, 0x1D, 0x3A, 0x35, 0x2B,\n",
    "      0x16, 0x2C, 0x18, 0x30, 0x21, 0x02, 0x05, 0x0B, 0x17, 0x2E,\n",
    "      0x1C, 0x38, 0x31, 0x23, 0x06, 0x0D, 0x1B, 0x36, 0x2D, 0x1A,\n",
    "      0x34, 0x29, 0x12, 0x24, 0x08, 0x11, 0x22, 0x04]\n",
    "    state[1][0] ^= 1\n",
    "    state[2][0] ^= 2\n",
    "    state[3][0] ^= 3\n",
    "    \n",
    "    state[0][0] ^= (LED>>4)&0xf\n",
    "    state[1][0] ^= (LED>>4)&0xf\n",
    "    state[2][0] ^= LED & 0xf\n",
    "    state[3][0] ^= LED & 0xf\n",
    "    \n",
    "    tmp = (rc[r]>>3)&7\n",
    "    state[0][1] ^= tmp\n",
    "    state[2][1] ^= tmp\n",
    "    tmp =  rc[r]&7\n",
    "    state[1][1] ^= tmp\n",
    "    state[3][1] ^= tmp\n",
    "    \n",
    "    return state\n",
    "\n",
    "def SubCell(state):\n",
    "    for i in range(4):\n",
    "        for j in range(4):\n",
    "            state[i][j] = sbox[state[i][j]]\n",
    "    return state\n",
    "\n",
    "def ShiftRow(state):\n",
    "    tmp = [0]*4\n",
    "    for i in range(4):\n",
    "        for j in range(4):\n",
    "            tmp[j] = state[i][j]\n",
    "        for j in range(4):\n",
    "            state[i][j] = tmp[(j+i)%4]\n",
    "    return state\n",
    "\n",
    "def MixColumn(state):\n",
    "    tmp = [0]*4\n",
    "    for j in range(4):\n",
    "        for i in range(4):\n",
    "            sum = 0\n",
    "            for k in range(4):\n",
    "                sum^= FieldMult(MixColMatrix[i][k], state[k][j])\n",
    "            tmp[i] = sum\n",
    "        for i in range(4):\n",
    "            state[i][j] = tmp[i]\n",
    "    return state\n",
    "\n",
    "def LEDencrypt(plainText, key):\n",
    "    # đưa hex về dạng dãy các số\n",
    "    plainText = hex2int(plainText)\n",
    "    key = hex2int(key)\n",
    "    \n",
    "    # lập ma trận trạng thái\n",
    "    state = np.reshape(np.array(plainText), (4, 4))\n",
    "    \n",
    "    # bắt đầu thuật toán\n",
    "    state = AddKey(state, key, 0)\n",
    "    for i in range(8):\n",
    "        for j in range(4):\n",
    "            state = AddConstants(state, i*4+j)\n",
    "            state = SubCell(state)\n",
    "            state = ShiftRow(state)\n",
    "            state = MixColumn(state)\n",
    "        state = AddKey(state, key, i+1)\n",
    "    \n",
    "    cipherText = ''\n",
    "    for i in range(4):\n",
    "        cipherText = cipherText + int2hex(state[i])\n",
    "    return cipherText"
   ]
  },
  {
   "cell_type": "code",
   "execution_count": 10,
   "id": "0f3fec53",
   "metadata": {},
   "outputs": [
    {
     "name": "stdout",
     "output_type": "stream",
     "text": [
      "Cipher Text: 86FAEDC807949F9F\n"
     ]
    }
   ],
   "source": [
    "# Main\n",
    "key = 'f8a41b13b5ca4ee8'\n",
    "plainText = '0be11a1c7f23f829'\n",
    "\n",
    "cipherText = LEDencrypt(plainText, key)\n",
    "print('Cipher Text:', cipherText)"
   ]
  },
  {
   "cell_type": "code",
   "execution_count": 11,
   "id": "d29921e7",
   "metadata": {},
   "outputs": [
    {
     "name": "stdout",
     "output_type": "stream",
     "text": [
      "Cipher Text: A003551E3893FC58\n"
     ]
    }
   ],
   "source": [
    "key = '0123456789ABCDEF'\n",
    "plainText = '0123456789ABCDEF'\n",
    "\n",
    "cipherText = LEDencrypt(plainText, key)\n",
    "print('Cipher Text:', cipherText)"
   ]
  },
  {
   "cell_type": "code",
   "execution_count": 12,
   "id": "9bd419b7",
   "metadata": {},
   "outputs": [
    {
     "name": "stdout",
     "output_type": "stream",
     "text": [
      "Cipher Text: 39C2401003A0C798\n"
     ]
    }
   ],
   "source": [
    "key = '0000000000000000'\n",
    "plainText = '0000000000000000'\n",
    "\n",
    "cipherText = LEDencrypt(plainText, key)\n",
    "print('Cipher Text:', cipherText)"
   ]
  }
 ],
 "metadata": {
  "kernelspec": {
   "display_name": "Python 3 (ipykernel)",
   "language": "python",
   "name": "python3"
  },
  "language_info": {
   "codemirror_mode": {
    "name": "ipython",
    "version": 3
   },
   "file_extension": ".py",
   "mimetype": "text/x-python",
   "name": "python",
   "nbconvert_exporter": "python",
   "pygments_lexer": "ipython3",
   "version": "3.9.12"
  }
 },
 "nbformat": 4,
 "nbformat_minor": 5
}
