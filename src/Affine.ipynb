{
 "cells": [
  {
   "cell_type": "code",
   "execution_count": 1,
   "id": "826a453a",
   "metadata": {},
   "outputs": [],
   "source": [
    "LETTERS = 'ABCDEFGHIJKLMNOPQRSTUVWXYZ'\n",
    "\n",
    "\n",
    "# GCD of a and b\n",
    "def gcd(a, b):\n",
    "    while a != 0:\n",
    "        a, b = b % a, a\n",
    "    return b\n",
    "\n",
    "\n",
    "# Inverse Module of a with mod m\n",
    "def inverseMod(a, m):\n",
    "    if gcd(a, m) != 1:\n",
    "        return None\n",
    "    u1, u2, u3 = 1, 0, a\n",
    "    v1, v2, v3 = 0, 1, m\n",
    "    while v3 != 0:\n",
    "        q = u3 // v3\n",
    "        v1, v2, v3, u1, u2, u3 = (u1 - q * v1), (u2 - q * v2), (u3 - q * v3), v1, v2, v3\n",
    "    return u1 % m\n",
    "\n",
    "# đưa bản rõ về dạng số:\n",
    "def transfertoNum(message):\n",
    "    ans = []\n",
    "    message = message.upper()\n",
    "    for symbol in message:\n",
    "        if symbol in LETTERS:\n",
    "            symIndex = LETTERS.find(symbol)\n",
    "            ans.append(symIndex)\n",
    "        else:\n",
    "            ans.append(symbol)\n",
    "    return ans\n",
    "\n",
    "# Return Affine Cipher with MODE encrypt or decrypt\n",
    "def affine_cipher(message, MODE, key):\n",
    "    message = message.upper()\n",
    "    translated = ''\n",
    "    # tìm nghịch đảo theo module của key[0]\n",
    "    modInverseOfKeyA = inverseMod(key[0], len(LETTERS))\n",
    "    print('Mod inverse of key:', modInverseOfKeyA)\n",
    "    if modInverseOfKeyA == None:\n",
    "        return None\n",
    "    for symbol in message:\n",
    "        if symbol in LETTERS:\n",
    "            symIndex = LETTERS.find(symbol)\n",
    "            if MODE.upper() == 'ENCRYPT':\n",
    "                translated += LETTERS[(symIndex * key[0] + key[1]) % len(LETTERS)]\n",
    "            elif MODE.upper() == 'DECRYPT':\n",
    "                translated += LETTERS[(symIndex - key[1]) * modInverseOfKeyA % len(LETTERS)]\n",
    "        else:\n",
    "            translated += symbol\n",
    "    return translated"
   ]
  },
  {
   "cell_type": "code",
   "execution_count": 2,
   "id": "5927cd54",
   "metadata": {},
   "outputs": [
    {
     "name": "stdout",
     "output_type": "stream",
     "text": [
      "Mod inverse of key: 21\n",
      "Plain text:  antoanmaytinh\n",
      "Plain text (number)):   [0, 13, 19, 14, 0, 13, 12, 0, 24, 19, 8, 13, 7]\n",
      "Cipher text: gtxygtogwxutp\n",
      "Cipher text (number):  [6, 19, 23, 24, 6, 19, 14, 6, 22, 23, 20, 19, 15]\n",
      "Mod inverse of key: 21\n",
      "Plain text after decrypt:  antoanmaytinh\n"
     ]
    }
   ],
   "source": [
    "message = \"antoanmaytinh\"\n",
    "key = (5, 6)\n",
    "cipher = affine_cipher(message, 'ENCRYPT', key)\n",
    "\n",
    "print('Plain text:  ' + message)\n",
    "print('Plain text (number)):  ', transfertoNum(message))\n",
    "print('Cipher text: ' + cipher.lower())\n",
    "print('Cipher text (number): ' , transfertoNum(cipher))\n",
    "\n",
    "message = affine_cipher(cipher, 'DECRYPT', key)\n",
    "print('Plain text after decrypt:  ' + message.lower())"
   ]
  }
 ],
 "metadata": {
  "kernelspec": {
   "display_name": "Python 3 (ipykernel)",
   "language": "python",
   "name": "python3"
  },
  "language_info": {
   "codemirror_mode": {
    "name": "ipython",
    "version": 3
   },
   "file_extension": ".py",
   "mimetype": "text/x-python",
   "name": "python",
   "nbconvert_exporter": "python",
   "pygments_lexer": "ipython3",
   "version": "3.9.12"
  }
 },
 "nbformat": 4,
 "nbformat_minor": 5
}
