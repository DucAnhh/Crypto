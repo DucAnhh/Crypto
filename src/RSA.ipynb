{
 "cells": [
  {
   "cell_type": "markdown",
   "id": "22c86403",
   "metadata": {},
   "source": [
    "**Một số hàm**"
   ]
  },
  {
   "cell_type": "code",
   "execution_count": 29,
   "id": "80083d1b",
   "metadata": {},
   "outputs": [],
   "source": [
    "import random\n",
    "def primeFiller(maxValue):\n",
    "    primeList = []\n",
    "    sieve = [1]*maxValue\n",
    "    sieve[0] = 0\n",
    "    sieve[1] = 0\n",
    "    for i in range(2, maxValue):\n",
    "        for j in range(i*2, maxValue, i):\n",
    "            sieve[j] = 0\n",
    "            \n",
    "    for i in range(maxValue):\n",
    "        if (sieve[i] == 1):\n",
    "            primeList.append(i)\n",
    "    return primeList\n",
    "\n",
    "def pickRandomPrimes(maxValue):\n",
    "    primeList = primeFiller(maxValue)\n",
    "    p = random.choice(primeList)\n",
    "    primeList.remove(p)\n",
    "    q = random.choice(primeList)\n",
    "\n",
    "    return p, q\n",
    "\n",
    "def find_e(z):\n",
    "    # gcd(e,z)==1; 1 < e < z\n",
    "    e = 2\n",
    "    while e < z:\n",
    "        if gcd(e, z)==1:\n",
    "            return e\n",
    "        e += 1\n",
    "\n",
    "def find_d(e, z):\n",
    "    # ed = 1(mod z); 1 < d < z\n",
    "    d = 2\n",
    "    while d < z:\n",
    "        if ((d*e) % z)==1:\n",
    "            return d\n",
    "        d += 1\n",
    "\n",
    "def gcd(x: int, y: int):\n",
    "    # GCD by Euclidean method\n",
    "    small,large = (x,y) if x<y else (y,x)\n",
    "\n",
    "    while small != 0:\n",
    "        temp = large % small\n",
    "        large = small\n",
    "        small = temp\n",
    "\n",
    "    return large"
   ]
  },
  {
   "cell_type": "markdown",
   "id": "d6537b78",
   "metadata": {},
   "source": [
    "**Hàm RSA**"
   ]
  },
  {
   "cell_type": "code",
   "execution_count": 30,
   "id": "0af65f13",
   "metadata": {},
   "outputs": [],
   "source": [
    "def RSA(p, q, plainText):\n",
    "    # Tính n\n",
    "    n = p * q\n",
    "    \n",
    "    # Tính z=phi(n)\n",
    "    z = (p-1)*(q-1)\n",
    "\n",
    "    # Tìm e và d\n",
    "    e = find_e(z)     # e -> gcd(e,z)==1      ; 1 < e < z\n",
    "    d = find_d(e, z)  # d -> ed = 1(mod z)    ; 1 < d < z\n",
    "    #print('e, d:', e, d)\n",
    "    \n",
    "    for char in plainText:\n",
    "        # chuyển ký tự sang mã ACSII\n",
    "        ch = ord(char)\n",
    "        # mã hóa và convert lại từ ACSII sang ký tự\n",
    "        #print(ch)\n",
    "    \n",
    "    #print('\\n')\n",
    "    # Encrypt: y = (x^e) % n\n",
    "    cypherText = ''\n",
    "    for char in plainText:\n",
    "        # chuyển ký tự sang mã ACSII\n",
    "        ch = ord(char)\n",
    "        # mã hóa và convert lại từ ACSII sang ký tự\n",
    "        #print((ch ** e) % n)\n",
    "        cypherText += chr((ch ** e) % n)\n",
    "    \n",
    "    #print('\\n')\n",
    "    # Decrypt: x = (y^d) % n\n",
    "    recoveredText = ''\n",
    "    for char in cypherText:\n",
    "        # chuyển ký tự sang mã ACSII\n",
    "        ch = ord(char)\n",
    "        #print((ch ** d) % n)\n",
    "        # giải mã và convert lại từ ACSII sang ký tự \n",
    "        recoveredText += chr((ch ** d) % n)\n",
    "\n",
    "    return cypherText, recoveredText"
   ]
  },
  {
   "cell_type": "markdown",
   "id": "9796c8e8",
   "metadata": {},
   "source": [
    "**Main**"
   ]
  },
  {
   "cell_type": "markdown",
   "id": "5cbeb10b",
   "metadata": {},
   "source": [
    "Lưu ý: Chọn p, q cho phù hợp để mã ASCII của ký tự không lớn hơn n=pq.\n",
    "Ví dụ: Với p = 7, q = 13 thì chỉ có ký tự H và W đúng còn các ký tự còn lại sẽ sai"
   ]
  },
  {
   "cell_type": "code",
   "execution_count": 31,
   "id": "d878fa64",
   "metadata": {},
   "outputs": [
    {
     "name": "stdout",
     "output_type": "stream",
     "text": [
      "p, q: 19 11\n",
      "PlainText: HelloWord\n",
      "Encrypted (Cypher text): ¸¡00¼W¼&o\n",
      "Decrypted (Recovered text): HelloWord\n"
     ]
    }
   ],
   "source": [
    "p, q = pickRandomPrimes(100)\n",
    "plainText = 'HelloWord'\n",
    "\n",
    "cypherText, recoveredText = RSA(p, q, plainText)\n",
    "\n",
    "print('p, q:', p, q)\n",
    "print('PlainText:', plainText)\n",
    "print('Encrypted (Cypher text):', cypherText)\n",
    "print('Decrypted (Recovered text):', recoveredText)"
   ]
  },
  {
   "cell_type": "markdown",
   "id": "22e51221",
   "metadata": {},
   "source": [
    "**Dùng thư viện có sẵn**"
   ]
  },
  {
   "cell_type": "code",
   "execution_count": 32,
   "id": "7354bdf5",
   "metadata": {},
   "outputs": [
    {
     "name": "stdout",
     "output_type": "stream",
     "text": [
      "original string:  hello\n",
      "encrypted string:  b'^\\x14\\xbf\\xc36\\xfa\\x0f_\\x1b\\x0b\\xdd\\xc6\\xd89\\x8bCA\\xbcCA\\xf7\\xa1\\xbbE\\x9c\\x9dM\\xe7\\x8f\\x08\\xd7\\xc0%\\n\\x0b\\xa2X\\xe0\\x10\\x1aibP\\xa0|T\\x8a\\xad\\xee\\x90\\x86\\xda\\xa3_\\xbd\\xa9\\xfc\\xfca7\\xf9\\x00/h'\n",
      "decrypted string:  hello\n"
     ]
    }
   ],
   "source": [
    "import rsa\n",
    " \n",
    "# generate public and private keys with\n",
    "# rsa.newkeys method,this method accepts\n",
    "# key length as its parameter\n",
    "# key length should be atleast 16\n",
    "publicKey, privateKey = rsa.newkeys(512)\n",
    " \n",
    "# this is the string that we will be encrypting\n",
    "message = \"hello\"\n",
    " \n",
    "# rsa.encrypt method is used to encrypt\n",
    "# string with public key string should be\n",
    "# encode to byte string before encryption\n",
    "# with encode method\n",
    "encMessage = rsa.encrypt(message.encode(), publicKey)\n",
    " \n",
    "print(\"original string: \", message)\n",
    "print(\"encrypted string: \", encMessage)\n",
    " \n",
    "# the encrypted message can be decrypted\n",
    "# with ras.decrypt method and private key\n",
    "# decrypt method returns encoded byte string,\n",
    "# use decode method to convert it to string\n",
    "# public key cannot be used for decryption\n",
    "decMessage = rsa.decrypt(encMessage, privateKey).decode()\n",
    " \n",
    "print(\"decrypted string: \", decMessage)"
   ]
  }
 ],
 "metadata": {
  "kernelspec": {
   "display_name": "Python 3 (ipykernel)",
   "language": "python",
   "name": "python3"
  },
  "language_info": {
   "codemirror_mode": {
    "name": "ipython",
    "version": 3
   },
   "file_extension": ".py",
   "mimetype": "text/x-python",
   "name": "python",
   "nbconvert_exporter": "python",
   "pygments_lexer": "ipython3",
   "version": "3.9.12"
  }
 },
 "nbformat": 4,
 "nbformat_minor": 5
}
