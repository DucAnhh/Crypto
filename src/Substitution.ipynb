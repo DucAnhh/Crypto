{
 "cells": [
  {
   "cell_type": "code",
   "execution_count": 29,
   "id": "113e9aae",
   "metadata": {},
   "outputs": [],
   "source": [
    "import random"
   ]
  },
  {
   "cell_type": "code",
   "execution_count": 30,
   "id": "f3f6d98a",
   "metadata": {},
   "outputs": [],
   "source": [
    "LETTERS = 'ABCDEFGHIJKLMNOPQRSTUVWXYZ'\n",
    "\n",
    "# Kiểm tra khóa key xem có hợp lệ\n",
    "# khóa phải là một hoán vị của Letters\n",
    "def checkValidKey(key):\n",
    "    keyList = list(key)\n",
    "    lettersList = list(LETTERS)\n",
    "    keyList.sort()\n",
    "    lettersList.sort()\n",
    "    if keyList == lettersList:\n",
    "        return True\n",
    "    return False\n",
    "\n",
    "\n",
    "# Mode là hoặc encrypt hoặc decrypt\n",
    "def substitution_cipher(message, MODE, key):\n",
    "    if checkValidKey(key) == False:\n",
    "        return '0'\n",
    "    \n",
    "    translated = '' # kết quả sẽ trả ra\n",
    "    \n",
    "    # lấy dãy letters và key \n",
    "    charsA = LETTERS\n",
    "    charsB = key\n",
    "    \n",
    "    # nếu là decrypt thì đảo key và letters\n",
    "    if MODE.upper() == 'DECRYPT':\n",
    "        charsA, charsB = charsB, charsA\n",
    "\n",
    "    for symbol in message:\n",
    "        if symbol.upper() in charsA:\n",
    "            symIndex = charsA.find(symbol.upper())\n",
    "            if symbol.isupper():\n",
    "                translated += charsB[symIndex].upper()\n",
    "            else:\n",
    "                translated += charsB[symIndex].lower()\n",
    "        else:\n",
    "            translated += symbol\n",
    "\n",
    "    return translated\n",
    "\n",
    "\n",
    "# tạo khóa ngẫu nhiên\n",
    "def getRandomKey():\n",
    "    key = list(LETTERS)\n",
    "    random.shuffle(key)\n",
    "    return ''.join(key)"
   ]
  },
  {
   "cell_type": "code",
   "execution_count": 31,
   "id": "90357260",
   "metadata": {},
   "outputs": [
    {
     "name": "stdout",
     "output_type": "stream",
     "text": [
      "Key: QWERTYUIOPASDFGHJKLZXCVBNM\n",
      "Plain text:  antoanmaytinh\n",
      "Cipher text: qfzgqfdqnzofi\n",
      "Plain text after decrypt: antoanmaytinh\n"
     ]
    }
   ],
   "source": [
    "# Hàm main:\n",
    "message = \"antoanmaytinh\"\n",
    "\n",
    "# chọn khóa\n",
    "key = 'qwertyuiopasdfghjklzxcvbnm'.upper()\n",
    "cipher = substitution_cipher(message, 'ENCRYPT', key)\n",
    "print('Key: ' + key)\n",
    "print('Plain text:  ' + message)\n",
    "print('Cipher text: ' + cipher)\n",
    "\n",
    "message = substitution_cipher(cipher, 'DECRYPT', key)\n",
    "print('Plain text after decrypt: ' + message)"
   ]
  },
  {
   "cell_type": "code",
   "execution_count": 32,
   "id": "82df9f2e",
   "metadata": {},
   "outputs": [
    {
     "name": "stdout",
     "output_type": "stream",
     "text": [
      "Key: KICUVXJHSBFOZMDRPGNEQYLTAW\n",
      "Plain text:  antoanmaytinh\n",
      "Cipher text: kmedkmzkaesmh\n",
      "nPlain text after decrypt: antoanmaytinh\n"
     ]
    }
   ],
   "source": [
    "# Hàm main:\n",
    "message = \"antoanmaytinh\"\n",
    "\n",
    "# lấy khóa ngẫu nhiên\n",
    "key = getRandomKey()\n",
    "cipher = substitution_cipher(message, 'ENCRYPT', key)\n",
    "print('Key: ' + key)\n",
    "print('Plain text:  ' + message)\n",
    "print('Cipher text: ' + cipher)\n",
    "\n",
    "message = substitution_cipher(cipher, 'DECRYPT', key)\n",
    "print('nPlain text after decrypt: ' + message)"
   ]
  },
  {
   "cell_type": "code",
   "execution_count": null,
   "id": "03b2509e",
   "metadata": {},
   "outputs": [],
   "source": []
  }
 ],
 "metadata": {
  "kernelspec": {
   "display_name": "Python 3 (ipykernel)",
   "language": "python",
   "name": "python3"
  },
  "language_info": {
   "codemirror_mode": {
    "name": "ipython",
    "version": 3
   },
   "file_extension": ".py",
   "mimetype": "text/x-python",
   "name": "python",
   "nbconvert_exporter": "python",
   "pygments_lexer": "ipython3",
   "version": "3.9.12"
  }
 },
 "nbformat": 4,
 "nbformat_minor": 5
}
