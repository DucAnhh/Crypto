{
 "cells": [
  {
   "cell_type": "code",
   "execution_count": 1,
   "id": "21a3bfb0",
   "metadata": {},
   "outputs": [],
   "source": [
    "def encrypt_text(plaintext,n):\n",
    "    ans = \"\"\n",
    "    for i in range(len(plaintext)):\n",
    "        ch = plaintext[i]\n",
    "        \n",
    "        # Nếu là space thì vẫn là space\n",
    "        if ch==\" \":\n",
    "            ans+=\" \"\n",
    "        # chữ hoa\n",
    "        elif (ch.isupper()):\n",
    "            ans += chr((ord(ch) + n-65) % 26 + 65)\n",
    "        # chữ thường\n",
    "        else:\n",
    "            ans += chr((ord(ch) + n-97) % 26 + 97)\n",
    "    \n",
    "    return ans\n",
    "\n",
    "def decrypt_text(plaintext,n):\n",
    "    ans = \"\"\n",
    "    for i in range(len(plaintext)):\n",
    "        ch = plaintext[i]\n",
    "        if ch==\" \":\n",
    "            ans+=\" \"\n",
    "        elif (ch.isupper()):\n",
    "            ans += chr((ord(ch) - n-65) % 26 + 65)        \n",
    "        else:\n",
    "            ans += chr((ord(ch) - n-97) % 26 + 97)\n",
    "    \n",
    "    return ans"
   ]
  },
  {
   "cell_type": "code",
   "execution_count": 2,
   "id": "07097774",
   "metadata": {},
   "outputs": [
    {
     "name": "stdout",
     "output_type": "stream",
     "text": [
      "Plain Text: AnToanMayTinh\n",
      "Shift pattern: 3\n",
      "Cipher Text: DqWrdqPdbWlqk\n",
      "Recovered Text: AnToanMayTinh\n"
     ]
    }
   ],
   "source": [
    "plaintext = \"AnToanMayTinh\"\n",
    "n = 3\n",
    "print(\"Plain Text: \" + plaintext)\n",
    "print(\"Shift pattern: \" + str(n))\n",
    "ciphertext = encrypt_text(plaintext,n)\n",
    "print(\"Cipher Text: \" + ciphertext)\n",
    "print(\"Recovered Text: \" + decrypt_text(ciphertext,n))"
   ]
  }
 ],
 "metadata": {
  "kernelspec": {
   "display_name": "Python 3 (ipykernel)",
   "language": "python",
   "name": "python3"
  },
  "language_info": {
   "codemirror_mode": {
    "name": "ipython",
    "version": 3
   },
   "file_extension": ".py",
   "mimetype": "text/x-python",
   "name": "python",
   "nbconvert_exporter": "python",
   "pygments_lexer": "ipython3",
   "version": "3.9.12"
  }
 },
 "nbformat": 4,
 "nbformat_minor": 5
}
